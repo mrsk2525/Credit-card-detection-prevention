{
  "nbformat": 4,
  "nbformat_minor": 0,
  "metadata": {
    "colab": {
      "provenance": [],
      "authorship_tag": "ABX9TyNklatm70e0GWAxgsgoXAmV",
      "include_colab_link": true
    },
    "kernelspec": {
      "name": "python3",
      "display_name": "Python 3"
    },
    "language_info": {
      "name": "python"
    }
  },
  "cells": [
    {
      "cell_type": "markdown",
      "metadata": {
        "id": "view-in-github",
        "colab_type": "text"
      },
      "source": [
        "<a href=\"https://colab.research.google.com/github/mrsk2525/Credit-card-detection-prevention/blob/main/SKPhase3.ipynb\" target=\"_parent\"><img src=\"https://colab.research.google.com/assets/colab-badge.svg\" alt=\"Open In Colab\"/></a>"
      ]
    },
    {
      "cell_type": "code",
      "execution_count": 2,
      "metadata": {
        "colab": {
          "base_uri": "https://localhost:8080/"
        },
        "id": "xtCwNWF0eQ13",
        "outputId": "9d160fe9-5423-4d05-fc9e-b1255fd93eb6"
      },
      "outputs": [
        {
          "output_type": "stream",
          "name": "stdout",
          "text": [
            "Data saved to: credit_card_default.csv\n",
            "Data saved to: credit_card_default.csv\n",
            "\n",
            "Accuracy: 0.816\n",
            "\n",
            "Classification Report:\n",
            "               precision    recall  f1-score   support\n",
            "\n",
            "           0       0.84      0.94      0.89      4687\n",
            "           1       0.64      0.37      0.47      1313\n",
            "\n",
            "    accuracy                           0.82      6000\n",
            "   macro avg       0.74      0.65      0.68      6000\n",
            "weighted avg       0.80      0.82      0.80      6000\n",
            "\n"
          ]
        }
      ],
      "source": [
        "import pandas as pd\n",
        "from sklearn.model_selection import train_test_split\n",
        "from sklearn.ensemble import RandomForestClassifier\n",
        "from sklearn.metrics import classification_report, accuracy_score\n",
        "\n",
        "# Step 1: Load the .xls file\n",
        "xls_file = \"/content/default of credit card clients.xls\"  # Replace with your path\n",
        "df = pd.read_excel(xls_file, header=1)\n",
        "\n",
        "# Step 2: Convert to CSV (optional)\n",
        "csv_file = \"credit_card_default.csv\"\n",
        "df.to_csv(csv_file, index=False)\n",
        "print(f\"Data saved to: {csv_file}\")\n",
        "\n",
        "# Step 3: Prepare data\n",
        "df.rename(columns={'default payment next month': 'default'}, inplace=True)\n",
        "X = df.drop(columns=['ID', 'default'])\n",
        "y = df['default']\n",
        "\n",
        "# Step 4: Split the data\n",
        "X_train, X_test, y_train, y_test = train_test_split(X, y, test_size=0.2, random_state=42)\n",
        "\n",
        "# Step 5: Train the model\n",
        "model = RandomForestClassifier(n_estimators=100, random_state=42)\n",
        "model.fit(X_train, y_train)\n",
        "\n",
        "# Step 6: Evaluate\n",
        "import pandas as pd\n",
        "from sklearn.model_selection import train_test_split\n",
        "from sklearn.ensemble import RandomForestClassifier\n",
        "from sklearn.metrics import classification_report, accuracy_score\n",
        "\n",
        "# Step 1: Load the .xls file\n",
        "xls_file = \"/content/default of credit card clients.xls\"  # Replace with your path\n",
        "df = pd.read_excel(xls_file, header=1)\n",
        "\n",
        "# Step 2: Convert to CSV (optional)\n",
        "csv_file = \"credit_card_default.csv\"\n",
        "df.to_csv(csv_file, index=False)\n",
        "print(f\"Data saved to: {csv_file}\")\n",
        "\n",
        "# Step 3: Prepare data\n",
        "df.rename(columns={'default payment next month': 'default'}, inplace=True)\n",
        "X = df.drop(columns=['ID', 'default'])\n",
        "y = df['default']\n",
        "\n",
        "# Step 4: Split the data\n",
        "X_train, X_test, y_train, y_test = train_test_split(X, y, test_size=0.2, random_state=42)\n",
        "\n",
        "# Step 5: Train the model\n",
        "model = RandomForestClassifier(n_estimators=100, random_state=42)\n",
        "model.fit(X_train, y_train)\n",
        "\n",
        "# Step 6: Evaluate\n",
        "y_pred = model.predict(X_test)\n",
        "print(\"\\nAccuracy:\", accuracy_score(y_test, y_pred))\n",
        "print(\"\\nClassification Report:\\n\", classification_report(y_test, y_pred))"
      ]
    }
  ]
}